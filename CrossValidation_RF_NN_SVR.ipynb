{
  "nbformat": 4,
  "nbformat_minor": 0,
  "metadata": {
    "colab": {
      "name": "CrossValidation_RF-NN-SVR.ipynb",
      "provenance": [],
      "collapsed_sections": [],
      "toc_visible": true
    },
    "kernelspec": {
      "name": "python3",
      "display_name": "Python 3"
    },
    "language_info": {
      "name": "python"
    }
  },
  "cells": [
    {
      "cell_type": "markdown",
      "source": [
        "# TFM : Aplicación de *Machine Learning* para la Gestión de Inventarios\n",
        "> Erendira Teresa Navarro García"
      ],
      "metadata": {
        "id": "wXglV6_xpFVD"
      }
    },
    {
      "cell_type": "markdown",
      "source": [
        "## Cross Validation \n",
        "Para elección del modelo"
      ],
      "metadata": {
        "id": "K2VCL2qXRjvI"
      }
    },
    {
      "cell_type": "code",
      "source": [
        "# Python 3 environment Google Colab\n",
        "import pandas as pd\n",
        "import os\n",
        "import csv\n",
        "import datetime as datetime\n",
        "import pywt\n",
        "import json \n",
        "import sklearn\n",
        "import numpy as np\n",
        "import math\n",
        "import matplotlib.pyplot as plt\n",
        "import matplotlib as mpl\n",
        "import plotly.graph_objects as go\n",
        "import plotly.express as px\n",
        "from plotly.subplots import make_subplots\n",
        "import seaborn as sns\n",
        "import matplotlib.pylab as plab\n",
        "from datetime import datetime\n",
        "from dateutil.parser import parse\n",
        "from pandas.plotting import lag_plot\n",
        "from pandas.plotting import autocorrelation_plot\n",
        "from statsmodels.tsa.stattools import adfuller, kpss\n",
        "from statsmodels.tsa.stattools import acf, pacf\n",
        "from statsmodels.graphics.tsaplots import plot_acf, plot_pacf\n",
        "from statsmodels.tsa.seasonal import seasonal_decompose\n",
        "from tabulate import tabulate"
      ],
      "metadata": {
        "id": "iajbe3qUpG5U",
        "colab": {
          "base_uri": "https://localhost:8080/"
        },
        "outputId": "00dedcf7-e171-46cb-abeb-dfa5db8364bd"
      },
      "execution_count": 3,
      "outputs": [
        {
          "output_type": "stream",
          "name": "stderr",
          "text": [
            "/usr/local/lib/python3.7/dist-packages/statsmodels/tools/_testing.py:19: FutureWarning:\n",
            "\n",
            "pandas.util.testing is deprecated. Use the functions in the public API at pandas.testing instead.\n",
            "\n"
          ]
        }
      ]
    },
    {
      "cell_type": "code",
      "source": [
        "from sklearn.model_selection import train_test_split, GridSearchCV, cross_val_score\n",
        "from sklearn.preprocessing import MinMaxScaler\n",
        "from sklearn.preprocessing import StandardScaler, OneHotEncoder\n",
        "from sklearn.metrics import mean_squared_error, explained_variance_score, mean_absolute_error, mean_squared_log_error, median_absolute_error, r2_score, make_scorer\n",
        "from sklearn.ensemble import RandomForestRegressor, GradientBoostingRegressor, VotingRegressor\n",
        "from sklearn.svm import SVR\n",
        "from sklearn.neural_network import MLPRegressor\n",
        "import sklearn.metrics as metrics\n",
        "from sklearn.model_selection import TimeSeriesSplit\n",
        "from sklearn.neighbors import KNeighborsRegressor"
      ],
      "metadata": {
        "id": "aRgOGeiqpR0o"
      },
      "execution_count": 4,
      "outputs": []
    },
    {
      "cell_type": "code",
      "source": [
        "pd.set_option('display.max_columns', None)\n",
        "pd.set_option('display.max_rows', None)"
      ],
      "metadata": {
        "id": "R1bBGq9OqbHf"
      },
      "execution_count": 5,
      "outputs": []
    },
    {
      "cell_type": "markdown",
      "source": [
        "### Lectura de datos"
      ],
      "metadata": {
        "id": "HGNU8Z77qgDs"
      }
    },
    {
      "cell_type": "code",
      "source": [
        "dateparse = lambda x: datetime.strptime(x, '%Y-%m-%d')\n",
        "df_tfm = pd.read_csv('/content/drive/MyDrive/Files_TFM/export_data_tfm.csv', \n",
        "                     parse_dates=['fecha'], date_parser=dateparse, dtype={'sku': str})\n",
        "df_tfm = df_tfm.sort_values(by='fecha').set_index('fecha')"
      ],
      "metadata": {
        "id": "s7GdC8Lwqels"
      },
      "execution_count": 6,
      "outputs": []
    },
    {
      "cell_type": "markdown",
      "source": [
        "### Preparación de los datos"
      ],
      "metadata": {
        "id": "BxtSsX6Kq3b9"
      }
    },
    {
      "cell_type": "code",
      "source": [
        "# Función para creación de nuevas variables - lag de 1 a 7 y diferencia en ventas del día anterior y del día previo\n",
        "def features(dataset_t, columns_y):\n",
        "  for i in range(1,8):\n",
        "    dataset_t.loc[:,'lag'+str(i)] = dataset_t.loc[:,columns_y].shift(i)\n",
        "    if i in [1,2]:\n",
        "      dataset_t.loc[:,'diff'+str(i)] = dataset_t.loc[:,columns_y].diff(i)\n",
        "  # Eliminar NAs\n",
        "  dataset_t = dataset_t.dropna()\n",
        "  return dataset_t\n",
        "\n",
        "# Separar dataset y crear nuevas variables\n",
        "def split_dataset(dataset, split_per, column_y):\n",
        "  data_train, data_test = train_test_split(dataset, test_size=split_per, shuffle=False)\n",
        "  data_train_total = features(data_train,column_y)\n",
        "  data_test_total = features(data_test,column_y)\n",
        "  y_train = data_train_total.loc[:,column_y]\n",
        "  X_train = data_train_total.drop(columns=column_y)\n",
        "  y_test = data_test_total.loc[:,column_y]\n",
        "  X_test = data_test_total.drop(columns=column_y)\n",
        "  return X_train, X_test, y_train, y_test"
      ],
      "metadata": {
        "id": "ARcAkNmrq7NK"
      },
      "execution_count": 7,
      "outputs": []
    },
    {
      "cell_type": "markdown",
      "source": [
        "### Modelos"
      ],
      "metadata": {
        "id": "ipSkH5bkq0hO"
      }
    },
    {
      "cell_type": "code",
      "source": [
        "# Variables a utilizar en los modelos\n",
        "columns_ok = [\"bolOpen\",\"promo\"]\n",
        "columns_to_scale  = ['lag'+str(i) for i in range(1,8)] + ['diff'+str(i) for i in [1,2]]\n",
        "y_to_scale  = [\"udsVentaT\"]\n",
        "# Elección de modelos\n",
        "models = []\n",
        "models.append(('RF', RandomForestRegressor(random_state=0)))\n",
        "models.append(('SVR', SVR()))\n",
        "models.append(('NN', MLPRegressor(random_state=0, max_iter=2000)))"
      ],
      "metadata": {
        "id": "Vpq6s94xqyFH"
      },
      "execution_count": 8,
      "outputs": []
    },
    {
      "cell_type": "code",
      "source": [
        "def cv_analisis(y_target):\n",
        "  df_cv_modelos = pd.DataFrame([],columns =[\"sku\", \"model\", \"mean_cv\", \"std_cv\"])\n",
        "  df_resultados = pd.DataFrame([],columns =[\"sku\", \"best_model\", \"best_cv_mean\"])\n",
        "  for i in range (1,51):\n",
        "    #dataset filtrado por sku\n",
        "    dataset_sku = df_tfm[(df_tfm[\"sku\"] == str(i))].drop(columns=[\"udsStock\",\"label\", \"bolHoliday\"])\n",
        "    #split dataset\n",
        "    X_train, X_test, y_train, y_test = split_dataset(dataset_sku, 0.3, y_target)\n",
        "    #Scalers\n",
        "    mm_train_cv = MinMaxScaler(feature_range = (0,1))\n",
        "    mm_ytrain_cv = MinMaxScaler(feature_range = (0,1))\n",
        "    # Escalamiento de datos\n",
        "    y_train = mm_ytrain_cv.fit_transform(y_train.reset_index()[[y_target]]).ravel()\n",
        "    X_tmp  = mm_train_cv.fit_transform(X_train.reset_index()[columns_to_scale]) \n",
        "    # Tabla X\n",
        "    X_train = np.concatenate([X_tmp , X_train.reset_index()[columns_ok].values], axis=1)\n",
        "    #### CV\n",
        "    results = []\n",
        "    names = []\n",
        "    mean_cv = []\n",
        "    std_cv = []\n",
        "    for name, model in models:\n",
        "      # TimeSeries Cross validation\n",
        "      tscv = TimeSeriesSplit(n_splits=8)\n",
        "      cv_results = cross_val_score(model, X_train, y_train, cv = tscv, scoring = \"r2\")\n",
        "      results.append(cv_results)\n",
        "      names.append(name)\n",
        "      mean_cv.append(cv_results.mean())\n",
        "      std_cv.append(cv_results.std())\n",
        "    df_cv = pd.DataFrame({\"model\":names,\"mean_cv\":mean_cv, \"std_cv\":std_cv})\n",
        "    df_cv[\"sku\"] = str(i)\n",
        "    df_cv = df_cv[[\"sku\",\"model\", \"mean_cv\", \"std_cv\"]]\n",
        "    df_cv_modelos = df_cv_modelos.append(df_cv, ignore_index = True)\n",
        "    modelo_max = df_cv[df_cv.mean_cv == np.max(df_cv.mean_cv)].model.values[0]\n",
        "    valor_max = df_cv[df_cv.mean_cv == np.max(df_cv.mean_cv)].mean_cv.values[0]\n",
        "    df = pd.DataFrame([[i,modelo_max,valor_max]], columns =[\"sku\", \"best_model\", \"best_cv_mean\"])\n",
        "    df_resultados = df_resultados.append(df, ignore_index = True)\n",
        "  return df_cv_modelos, df_resultados"
      ],
      "metadata": {
        "id": "ns0--FVSqsA4"
      },
      "execution_count": 13,
      "outputs": []
    },
    {
      "cell_type": "code",
      "source": [
        "df_cv, df_result = cv_analisis(\"udsVentaT\")"
      ],
      "metadata": {
        "id": "DNCcP6rtMg0c"
      },
      "execution_count": 14,
      "outputs": []
    },
    {
      "cell_type": "code",
      "source": [
        "cv_resumen = df_result.groupby(\"best_model\")[\"sku\"].count().reset_index()\n",
        "cv_resumen['per'] = 100 * cv_resumen[\"sku\"] / cv_resumen[\"sku\"].sum()\n",
        "print(tabulate(cv_resumen.set_index(\"best_model\"), headers=cv_resumen.columns, tablefmt='latex'))"
      ],
      "metadata": {
        "id": "cd2D2HrFC454",
        "colab": {
          "base_uri": "https://localhost:8080/"
        },
        "outputId": "2f13b063-8223-4e78-f41d-623607821438"
      },
      "execution_count": 15,
      "outputs": [
        {
          "output_type": "stream",
          "name": "stdout",
          "text": [
            "\\begin{tabular}{lrr}\n",
            "\\hline\n",
            " best\\_model   &   sku &   per \\\\\n",
            "\\hline\n",
            " NN           &    14 &    28 \\\\\n",
            " RF           &    36 &    72 \\\\\n",
            "\\hline\n",
            "\\end{tabular}\n"
          ]
        }
      ]
    },
    {
      "cell_type": "code",
      "source": [
        "print(tabulate(df_cv[df_cv[\"model\"] == \"RF\"].set_index(\"sku\"), headers=df_cv.columns, tablefmt='latex'))"
      ],
      "metadata": {
        "colab": {
          "base_uri": "https://localhost:8080/"
        },
        "id": "H4Q0zELcYkDU",
        "outputId": "e4a8f2f7-6173-4b18-ca42-fd563d0b0e23"
      },
      "execution_count": 16,
      "outputs": [
        {
          "output_type": "stream",
          "name": "stdout",
          "text": [
            "\\begin{tabular}{rlrr}\n",
            "\\hline\n",
            "   sku & model   &   mean\\_cv &    std\\_cv \\\\\n",
            "\\hline\n",
            "     1 & RF      &  0.932223 & 0.0617921 \\\\\n",
            "     2 & RF      &  0.875731 & 0.0658859 \\\\\n",
            "     3 & RF      &  0.836148 & 0.203283  \\\\\n",
            "     4 & RF      &  0.892016 & 0.120825  \\\\\n",
            "     5 & RF      &  0.929246 & 0.0619969 \\\\\n",
            "     6 & RF      &  0.889253 & 0.0971438 \\\\\n",
            "     7 & RF      &  0.894692 & 0.145432  \\\\\n",
            "     8 & RF      &  0.932069 & 0.0600548 \\\\\n",
            "     9 & RF      &  0.927128 & 0.0760093 \\\\\n",
            "    10 & RF      &  0.90503  & 0.0991373 \\\\\n",
            "    11 & RF      &  0.928058 & 0.0612708 \\\\\n",
            "    12 & RF      &  0.93155  & 0.0536939 \\\\\n",
            "    13 & RF      &  0.926514 & 0.0776869 \\\\\n",
            "    14 & RF      &  0.922361 & 0.102774  \\\\\n",
            "    15 & RF      &  0.870836 & 0.11996   \\\\\n",
            "    16 & RF      &  0.930176 & 0.0615033 \\\\\n",
            "    17 & RF      &  0.940783 & 0.0536499 \\\\\n",
            "    18 & RF      &  0.939066 & 0.056004  \\\\\n",
            "    19 & RF      &  0.921971 & 0.0658504 \\\\\n",
            "    20 & RF      &  0.890643 & 0.134221  \\\\\n",
            "    21 & RF      &  0.935876 & 0.068087  \\\\\n",
            "    22 & RF      &  0.893634 & 0.189069  \\\\\n",
            "    23 & RF      &  0.841684 & 0.322502  \\\\\n",
            "    24 & RF      &  0.880144 & 0.116826  \\\\\n",
            "    25 & RF      &  0.933665 & 0.0639509 \\\\\n",
            "    26 & RF      &  0.907023 & 0.107616  \\\\\n",
            "    27 & RF      &  0.913734 & 0.0783713 \\\\\n",
            "    28 & RF      &  0.913289 & 0.0967873 \\\\\n",
            "    29 & RF      &  0.952535 & 0.0382292 \\\\\n",
            "    30 & RF      &  0.94393  & 0.0571792 \\\\\n",
            "    31 & RF      &  0.949311 & 0.0446407 \\\\\n",
            "    32 & RF      &  0.896708 & 0.108009  \\\\\n",
            "    33 & RF      &  0.921849 & 0.0814087 \\\\\n",
            "    34 & RF      &  0.948817 & 0.0420629 \\\\\n",
            "    35 & RF      &  0.92035  & 0.0767827 \\\\\n",
            "    36 & RF      &  0.931446 & 0.0798305 \\\\\n",
            "    37 & RF      &  0.923362 & 0.0638842 \\\\\n",
            "    38 & RF      &  0.951284 & 0.0341403 \\\\\n",
            "    39 & RF      &  0.916669 & 0.0678399 \\\\\n",
            "    40 & RF      &  0.933742 & 0.0439213 \\\\\n",
            "    41 & RF      &  0.93255  & 0.0561427 \\\\\n",
            "    42 & RF      &  0.932425 & 0.0433897 \\\\\n",
            "    43 & RF      &  0.915147 & 0.1306    \\\\\n",
            "    44 & RF      &  0.956901 & 0.0399204 \\\\\n",
            "    45 & RF      &  0.937065 & 0.0728601 \\\\\n",
            "    46 & RF      &  0.901816 & 0.107443  \\\\\n",
            "    47 & RF      &  0.89569  & 0.138077  \\\\\n",
            "    48 & RF      &  0.920455 & 0.0806044 \\\\\n",
            "    49 & RF      &  0.907812 & 0.109386  \\\\\n",
            "    50 & RF      &  0.935829 & 0.0701139 \\\\\n",
            "\\hline\n",
            "\\end{tabular}\n"
          ]
        }
      ]
    },
    {
      "cell_type": "code",
      "source": [
        "print(tabulate(df_cv[df_cv[\"model\"] == \"NN\"].set_index(\"sku\"), headers=df_cv.columns, tablefmt='latex'))"
      ],
      "metadata": {
        "colab": {
          "base_uri": "https://localhost:8080/"
        },
        "id": "XzWl_Eg6YkKb",
        "outputId": "b6ea48c9-cb61-4e1d-9a97-d49fed81f0c6"
      },
      "execution_count": 17,
      "outputs": [
        {
          "output_type": "stream",
          "name": "stdout",
          "text": [
            "\\begin{tabular}{rlrr}\n",
            "\\hline\n",
            "   sku & model   &   mean\\_cv &    std\\_cv \\\\\n",
            "\\hline\n",
            "     1 & NN      &  0.908663 & 0.0962707 \\\\\n",
            "     2 & NN      &  0.75421  & 0.33352   \\\\\n",
            "     3 & NN      &  0.643769 & 0.68998   \\\\\n",
            "     4 & NN      &  0.884613 & 0.154002  \\\\\n",
            "     5 & NN      &  0.923556 & 0.0790675 \\\\\n",
            "     6 & NN      &  0.908002 & 0.113443  \\\\\n",
            "     7 & NN      &  0.824936 & 0.373629  \\\\\n",
            "     8 & NN      &  0.933607 & 0.0752581 \\\\\n",
            "     9 & NN      &  0.902373 & 0.125716  \\\\\n",
            "    10 & NN      &  0.840848 & 0.215739  \\\\\n",
            "    11 & NN      &  0.907152 & 0.104634  \\\\\n",
            "    12 & NN      &  0.96739  & 0.0300188 \\\\\n",
            "    13 & NN      &  0.877358 & 0.185135  \\\\\n",
            "    14 & NN      &  0.944644 & 0.0486788 \\\\\n",
            "    15 & NN      &  0.74985  & 0.385393  \\\\\n",
            "    16 & NN      &  0.899858 & 0.154506  \\\\\n",
            "    17 & NN      &  0.93528  & 0.0511386 \\\\\n",
            "    18 & NN      &  0.962152 & 0.0411246 \\\\\n",
            "    19 & NN      &  0.848627 & 0.235157  \\\\\n",
            "    20 & NN      &  0.772477 & 0.42236   \\\\\n",
            "    21 & NN      &  0.723438 & 0.624186  \\\\\n",
            "    22 & NN      &  0.82112  & 0.307989  \\\\\n",
            "    23 & NN      &  0.856968 & 0.202739  \\\\\n",
            "    24 & NN      &  0.846384 & 0.207208  \\\\\n",
            "    25 & NN      &  0.960782 & 0.0334957 \\\\\n",
            "    26 & NN      &  0.816776 & 0.287148  \\\\\n",
            "    27 & NN      &  0.925019 & 0.0720983 \\\\\n",
            "    28 & NN      &  0.941249 & 0.0625756 \\\\\n",
            "    29 & NN      &  0.686335 & 0.421754  \\\\\n",
            "    30 & NN      &  0.969374 & 0.0258815 \\\\\n",
            "    31 & NN      &  0.732314 & 0.44553   \\\\\n",
            "    32 & NN      &  0.852813 & 0.190551  \\\\\n",
            "    33 & NN      &  0.693217 & 0.545921  \\\\\n",
            "    34 & NN      &  0.732884 & 0.400525  \\\\\n",
            "    35 & NN      &  0.865622 & 0.204812  \\\\\n",
            "    36 & NN      &  0.954318 & 0.0417139 \\\\\n",
            "    37 & NN      &  0.883303 & 0.112505  \\\\\n",
            "    38 & NN      &  0.966839 & 0.0211668 \\\\\n",
            "    39 & NN      &  0.899475 & 0.153486  \\\\\n",
            "    40 & NN      &  0.916415 & 0.102313  \\\\\n",
            "    41 & NN      &  0.934597 & 0.0718842 \\\\\n",
            "    42 & NN      &  0.931647 & 0.0670915 \\\\\n",
            "    43 & NN      &  0.891705 & 0.153579  \\\\\n",
            "    44 & NN      &  0.94848  & 0.0467089 \\\\\n",
            "    45 & NN      &  0.694307 & 0.486118  \\\\\n",
            "    46 & NN      &  0.792572 & 0.39121   \\\\\n",
            "    47 & NN      &  0.659676 & 0.723891  \\\\\n",
            "    48 & NN      &  0.942823 & 0.0457377 \\\\\n",
            "    49 & NN      &  0.846227 & 0.225033  \\\\\n",
            "    50 & NN      &  0.893044 & 0.175458  \\\\\n",
            "\\hline\n",
            "\\end{tabular}\n"
          ]
        }
      ]
    },
    {
      "cell_type": "code",
      "source": [
        "print(tabulate(df_cv[df_cv[\"model\"] == \"SVR\"].set_index(\"sku\"), headers=df_cv.columns, tablefmt='latex'))"
      ],
      "metadata": {
        "colab": {
          "base_uri": "https://localhost:8080/"
        },
        "id": "LmPydL6nYkRW",
        "outputId": "6a86f725-06e1-4460-fae9-9e1d7c048882"
      },
      "execution_count": 18,
      "outputs": [
        {
          "output_type": "stream",
          "name": "stdout",
          "text": [
            "\\begin{tabular}{rlrr}\n",
            "\\hline\n",
            "   sku & model   &   mean\\_cv &    std\\_cv \\\\\n",
            "\\hline\n",
            "     1 & SVR     &  0.832733 & 0.138646  \\\\\n",
            "     2 & SVR     &  0.753355 & 0.154309  \\\\\n",
            "     3 & SVR     &  0.746426 & 0.249016  \\\\\n",
            "     4 & SVR     &  0.811515 & 0.145059  \\\\\n",
            "     5 & SVR     &  0.849153 & 0.101559  \\\\\n",
            "     6 & SVR     &  0.795521 & 0.135691  \\\\\n",
            "     7 & SVR     &  0.848609 & 0.165218  \\\\\n",
            "     8 & SVR     &  0.816395 & 0.173238  \\\\\n",
            "     9 & SVR     &  0.855234 & 0.0884667 \\\\\n",
            "    10 & SVR     &  0.792116 & 0.123172  \\\\\n",
            "    11 & SVR     &  0.845881 & 0.0939758 \\\\\n",
            "    12 & SVR     &  0.85293  & 0.0825983 \\\\\n",
            "    13 & SVR     &  0.845457 & 0.111642  \\\\\n",
            "    14 & SVR     &  0.852046 & 0.141302  \\\\\n",
            "    15 & SVR     &  0.724708 & 0.209709  \\\\\n",
            "    16 & SVR     &  0.821777 & 0.0914042 \\\\\n",
            "    17 & SVR     &  0.787016 & 0.106329  \\\\\n",
            "    18 & SVR     &  0.858598 & 0.134343  \\\\\n",
            "    19 & SVR     &  0.829264 & 0.103413  \\\\\n",
            "    20 & SVR     &  0.755463 & 0.218987  \\\\\n",
            "    21 & SVR     &  0.709207 & 0.448203  \\\\\n",
            "    22 & SVR     &  0.771277 & 0.253316  \\\\\n",
            "    23 & SVR     &  0.779965 & 0.283962  \\\\\n",
            "    24 & SVR     &  0.807279 & 0.129987  \\\\\n",
            "    25 & SVR     &  0.840382 & 0.126754  \\\\\n",
            "    26 & SVR     &  0.793163 & 0.134941  \\\\\n",
            "    27 & SVR     &  0.823323 & 0.0901982 \\\\\n",
            "    28 & SVR     &  0.85657  & 0.083094  \\\\\n",
            "    29 & SVR     &  0.837082 & 0.144717  \\\\\n",
            "    30 & SVR     &  0.84796  & 0.0682775 \\\\\n",
            "    31 & SVR     &  0.86037  & 0.0822644 \\\\\n",
            "    32 & SVR     &  0.814995 & 0.0798565 \\\\\n",
            "    33 & SVR     &  0.846469 & 0.073604  \\\\\n",
            "    34 & SVR     &  0.842429 & 0.0584086 \\\\\n",
            "    35 & SVR     &  0.779241 & 0.140643  \\\\\n",
            "    36 & SVR     &  0.859898 & 0.104555  \\\\\n",
            "    37 & SVR     &  0.844191 & 0.0654584 \\\\\n",
            "    38 & SVR     &  0.868425 & 0.0887907 \\\\\n",
            "    39 & SVR     &  0.831902 & 0.131762  \\\\\n",
            "    40 & SVR     &  0.851866 & 0.0873372 \\\\\n",
            "    41 & SVR     &  0.856475 & 0.107276  \\\\\n",
            "    42 & SVR     &  0.837061 & 0.0721838 \\\\\n",
            "    43 & SVR     &  0.823948 & 0.106669  \\\\\n",
            "    44 & SVR     &  0.884959 & 0.0549049 \\\\\n",
            "    45 & SVR     &  0.847567 & 0.0875362 \\\\\n",
            "    46 & SVR     &  0.799794 & 0.165341  \\\\\n",
            "    47 & SVR     &  0.747859 & 0.243755  \\\\\n",
            "    48 & SVR     &  0.79693  & 0.167122  \\\\\n",
            "    49 & SVR     &  0.791003 & 0.161866  \\\\\n",
            "    50 & SVR     &  0.801484 & 0.103786  \\\\\n",
            "\\hline\n",
            "\\end{tabular}\n"
          ]
        }
      ]
    }
  ]
}